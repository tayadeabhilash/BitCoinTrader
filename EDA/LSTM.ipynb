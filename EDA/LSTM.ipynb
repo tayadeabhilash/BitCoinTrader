{
  "nbformat": 4,
  "nbformat_minor": 0,
  "metadata": {
    "colab": {
      "provenance": []
    },
    "kernelspec": {
      "name": "python3",
      "display_name": "Python 3"
    },
    "language_info": {
      "name": "python"
    }
  },
  "cells": [
    {
      "cell_type": "code",
      "execution_count": 3,
      "metadata": {
        "id": "ZB36QQtpAzpl"
      },
      "outputs": [],
      "source": [
        "from datetime import date, timedelta\n",
        "import numpy as np\n",
        "import pandas as pd\n",
        "import matplotlib.pyplot as plt\n",
        "import yfinance as yf\n",
        "from sklearn.preprocessing import MinMaxScaler\n",
        "from keras.models import Sequential\n",
        "from keras.layers import LSTM, Dense"
      ]
    },
    {
      "cell_type": "code",
      "source": [
        "# List of stocks to predict\n",
        "stocks = ['BTC-USD']\n",
        "stock = stocks[0]\n",
        "today = date.today()\n",
        "\n",
        "# Create an empty dictionary to store prediction values\n",
        "predictions = {}\n",
        "stock_data = yf.download(stock, start='2018-01-01', end='2024-05-18')\n",
        "ohlc = stock_data[['Open', 'High', 'Low', 'Close']].values\n"
      ],
      "metadata": {
        "colab": {
          "base_uri": "https://localhost:8080/"
        },
        "id": "SL4nWaagBNSD",
        "outputId": "0d0c2679-0794-418c-afcf-aceba54b1b5b"
      },
      "execution_count": 21,
      "outputs": [
        {
          "output_type": "stream",
          "name": "stderr",
          "text": [
            "\r[*********************100%%**********************]  1 of 1 completed\n"
          ]
        }
      ]
    },
    {
      "cell_type": "code",
      "source": [
        "# Scale the data\n",
        "scaler = MinMaxScaler(feature_range=(0,1))\n",
        "scaled_ohlc = scaler.fit_transform(ohlc)"
      ],
      "metadata": {
        "id": "dVKMPBiOBQbr"
      },
      "execution_count": 22,
      "outputs": []
    },
    {
      "cell_type": "code",
      "source": [
        "# Create sequences of length 60\n",
        "seq_length = 60\n",
        "X = []\n",
        "y = []\n",
        "for i in range(seq_length, len(scaled_ohlc)):\n",
        "    X.append(scaled_ohlc[i-seq_length:i, :])\n",
        "    y.append(scaled_ohlc[i, :])\n",
        "\n",
        "X = np.array(X)\n",
        "y = np.array(y)"
      ],
      "metadata": {
        "id": "67oi4VLjBRwq"
      },
      "execution_count": 23,
      "outputs": []
    },
    {
      "cell_type": "code",
      "source": [
        "# Reshape the input data for LSTM\n",
        "X = np.reshape(X, (X.shape[0], X.shape[1], 4))"
      ],
      "metadata": {
        "id": "rZBqbPecBTRF"
      },
      "execution_count": 24,
      "outputs": []
    },
    {
      "cell_type": "code",
      "source": [
        "# Define the LSTM model\n",
        "model = Sequential()\n",
        "model.add(LSTM(units=100, return_sequences=True, input_shape=(X.shape[1], 4)))\n",
        "model.add(LSTM(units=100))\n",
        "model.add(Dense(units=25))\n",
        "model.add(Dense(units=4))"
      ],
      "metadata": {
        "id": "5_2kUZNoBTOj"
      },
      "execution_count": 25,
      "outputs": []
    },
    {
      "cell_type": "code",
      "source": [
        "# Compile the model\n",
        "model.compile(optimizer='adam', loss='mean_squared_error')"
      ],
      "metadata": {
        "id": "vUMEXZDABVwf"
      },
      "execution_count": 26,
      "outputs": []
    },
    {
      "cell_type": "code",
      "source": [
        "# Train the model\n",
        "model.fit(X, y, epochs=1, batch_size=32)"
      ],
      "metadata": {
        "colab": {
          "base_uri": "https://localhost:8080/"
        },
        "id": "5sBggpU_BW_0",
        "outputId": "60c49fd6-2fb7-4050-ee50-062b2c3abda7"
      },
      "execution_count": 27,
      "outputs": [
        {
          "output_type": "stream",
          "name": "stdout",
          "text": [
            "71/71 [==============================] - 11s 106ms/step - loss: 0.0067\n"
          ]
        },
        {
          "output_type": "execute_result",
          "data": {
            "text/plain": [
              "<keras.src.callbacks.History at 0x7b0c423d1e10>"
            ]
          },
          "metadata": {},
          "execution_count": 27
        }
      ]
    },
    {
      "cell_type": "code",
      "source": [
        "predicted_prices = []\n",
        "last_seq = ohlc[-seq_length:]\n",
        "for _ in range(7):\n",
        "    last_seq_scaled = scaler.transform(last_seq)\n",
        "    next_day_scaled = model.predict(np.array([last_seq_scaled]))\n",
        "    next_day = scaler.inverse_transform(next_day_scaled)[0]\n",
        "    predicted_prices.append(next_day)\n",
        "    last_seq = np.append(last_seq[1:], [next_day], axis=0)"
      ],
      "metadata": {
        "colab": {
          "base_uri": "https://localhost:8080/"
        },
        "id": "0UF0V-erBYo6",
        "outputId": "a64a891e-0919-41fc-b086-5773ce705081"
      },
      "execution_count": 41,
      "outputs": [
        {
          "output_type": "stream",
          "name": "stdout",
          "text": [
            "1/1 [==============================] - 0s 66ms/step\n",
            "1/1 [==============================] - 0s 70ms/step\n",
            "1/1 [==============================] - 0s 97ms/step\n",
            "1/1 [==============================] - 0s 41ms/step\n",
            "1/1 [==============================] - 0s 43ms/step\n",
            "1/1 [==============================] - 0s 46ms/step\n",
            "1/1 [==============================] - 0s 39ms/step\n"
          ]
        }
      ]
    },
    {
      "cell_type": "code",
      "source": [
        "# Convert predicted prices to DataFrame with dates\n",
        "date_range = pd.date_range(start=stock_data.index[-1] + timedelta(days=1), periods=7)\n",
        "predicted_df = pd.DataFrame(predicted_prices, columns=['Open', 'High', 'Low', 'Close'], index=date_range)\n",
        "\n",
        "# Print the predictions DataFrame\n",
        "print(predicted_df)"
      ],
      "metadata": {
        "colab": {
          "base_uri": "https://localhost:8080/"
        },
        "id": "6SpWKRjcBb4D",
        "outputId": "3c900915-1bb8-4047-cd58-0aa74ba3f597"
      },
      "execution_count": 42,
      "outputs": [
        {
          "output_type": "stream",
          "name": "stdout",
          "text": [
            "                    Open          High           Low         Close\n",
            "2024-05-18  63219.039062  63732.089844  60926.117188  62305.535156\n",
            "2024-05-19  63402.746094  63961.113281  61095.355469  62504.433594\n",
            "2024-05-20  63524.242188  64117.195312  61202.941406  62635.894531\n",
            "2024-05-21  63602.375000  64213.613281  61266.593750  62714.546875\n",
            "2024-05-22  63649.593750  64266.191406  61299.976562  62756.089844\n",
            "2024-05-23  63674.976562  64287.859375  61312.675781  62771.746094\n",
            "2024-05-24  63684.937500  64288.585938  61311.433594  62769.613281\n"
          ]
        }
      ]
    },
    {
      "cell_type": "code",
      "source": [
        "from tensorflow.keras.models import load_model\n",
        "model.save('model.h5')"
      ],
      "metadata": {
        "id": "eEFn4yA_BNHY"
      },
      "execution_count": 2,
      "outputs": []
    },
    {
      "cell_type": "code",
      "source": [
        "from google.colab import drive\n",
        "drive.mount('/content/drive')"
      ],
      "metadata": {
        "colab": {
          "base_uri": "https://localhost:8080/"
        },
        "id": "EDuaHtIuGSKk",
        "outputId": "5b1fd778-9ab7-4de5-c5ad-9c74f4140d20"
      },
      "execution_count": 6,
      "outputs": [
        {
          "output_type": "stream",
          "name": "stdout",
          "text": [
            "Drive already mounted at /content/drive; to attempt to forcibly remount, call drive.mount(\"/content/drive\", force_remount=True).\n"
          ]
        }
      ]
    },
    {
      "cell_type": "code",
      "source": [
        "model = load_model(\"/content/drive/MyDrive/Code/models/model(current).h5\")"
      ],
      "metadata": {
        "id": "EhxUw-rPFuqX"
      },
      "execution_count": 4,
      "outputs": []
    },
    {
      "cell_type": "code",
      "source": [
        "stock = 'BTC-USD'\n",
        "start_date = '2018-01-01'\n",
        "prediction_start_date = '2024-04-01'\n",
        "prediction_end_date = '2024-04-07'"
      ],
      "metadata": {
        "id": "qVNNSKdJFKun"
      },
      "execution_count": 7,
      "outputs": []
    },
    {
      "cell_type": "code",
      "source": [
        "# Download historical stock data up to the start of the prediction period\n",
        "historical_data = yf.download(stock, start=start_date, end=prediction_start_date)\n",
        "\n",
        "# Extract the OHLC values\n",
        "ohlc = historical_data[['Open', 'High', 'Low', 'Close']].values"
      ],
      "metadata": {
        "colab": {
          "base_uri": "https://localhost:8080/"
        },
        "id": "bi-S8AFaFOo4",
        "outputId": "dd55e401-f351-4220-8660-1f65fc459dcf"
      },
      "execution_count": 8,
      "outputs": [
        {
          "output_type": "stream",
          "name": "stderr",
          "text": [
            "\r[*********************100%%**********************]  1 of 1 completed\n"
          ]
        }
      ]
    },
    {
      "cell_type": "code",
      "source": [
        "# Scale the data\n",
        "scaler = MinMaxScaler(feature_range=(0, 1))\n",
        "scaled_ohlc = scaler.fit_transform(ohlc)\n",
        "\n",
        "# Prepare the sequence for prediction\n",
        "seq_length = 60\n",
        "last_seq = scaled_ohlc[-seq_length:]\n",
        "\n",
        "# Calculate the number of days to predict\n",
        "num_days_to_predict = (pd.to_datetime(prediction_end_date) - pd.to_datetime(prediction_start_date)).days + 1\n",
        "\n",
        "# Make predictions\n",
        "predicted_prices = []"
      ],
      "metadata": {
        "id": "K63p-0eZBNAo"
      },
      "execution_count": 9,
      "outputs": []
    },
    {
      "cell_type": "code",
      "source": [
        "for _ in range(num_days_to_predict):\n",
        "    next_day_scaled = model.predict(np.array([last_seq]))\n",
        "    next_day = scaler.inverse_transform(next_day_scaled)[0]\n",
        "    predicted_prices.append(next_day)\n",
        "    last_seq = np.append(last_seq[1:], [next_day], axis=0)\n",
        "\n",
        "# Convert predicted prices to DataFrame with dates\n",
        "date_range = pd.date_range(start=prediction_start_date, periods=num_days_to_predict)\n",
        "predicted_df = pd.DataFrame(predicted_prices, columns=['Open', 'High', 'Low', 'Close'], index=date_range)\n",
        "\n",
        "# Print predicted prices\n",
        "print(\"Predicted Prices:\")\n",
        "print(predicted_df)"
      ],
      "metadata": {
        "colab": {
          "base_uri": "https://localhost:8080/"
        },
        "id": "c3Wy8IkpBM-W",
        "outputId": "00bd6578-1437-4bf2-b1cb-bd5062115eca"
      },
      "execution_count": 10,
      "outputs": [
        {
          "output_type": "stream",
          "name": "stdout",
          "text": [
            "1/1 [==============================] - 1s 1s/step\n",
            "1/1 [==============================] - 0s 66ms/step\n",
            "1/1 [==============================] - 0s 71ms/step\n",
            "1/1 [==============================] - 0s 75ms/step\n",
            "1/1 [==============================] - 0s 66ms/step\n",
            "1/1 [==============================] - 0s 67ms/step\n",
            "1/1 [==============================] - 0s 67ms/step\n",
            "Predicted Prices:\n",
            "                    Open          High           Low         Close\n",
            "2024-04-01  68264.835938  70009.929688  66185.281250  68946.234375\n",
            "2024-04-02  72738.609375  71197.773438  73976.960938  66372.507812\n",
            "2024-04-03  74958.539062  69599.007812  81222.031250  65315.175781\n",
            "2024-04-04  72207.781250  67633.726562  80342.523438  63458.785156\n",
            "2024-04-05  69934.703125  66757.125000  79763.726562  61487.171875\n",
            "2024-04-06  68465.625000  64587.250000  80433.632812  60211.335938\n",
            "2024-04-07  66885.468750  65116.199219  81624.085938  60170.421875\n"
          ]
        }
      ]
    },
    {
      "cell_type": "code",
      "source": [
        "# Fetch actual data from Yahoo Finance for the comparison period\n",
        "actual_stock_data = yf.download(stock, start=prediction_start_date, end=(pd.to_datetime(prediction_end_date) + timedelta(days=1)).strftime('%Y-%m-%d'))\n",
        "actual_ohlc = actual_stock_data[['Open', 'High', 'Low', 'Close']]\n",
        "\n",
        "# Ensure the indices are comparable\n",
        "actual_ohlc.index = actual_ohlc.index.strftime('%Y-%m-%d')\n",
        "predicted_df.index = predicted_df.index.strftime('%Y-%m-%d')\n",
        "\n",
        "# Calculate performance metrics (assuming actual_ohlc is available)\n",
        "comparison_df = predicted_df.join(actual_ohlc, lsuffix='_pred', rsuffix='_actual')\n",
        "\n",
        "print(\"\\nComparison of Predicted vs Actual Prices:\")\n",
        "print(comparison_df)"
      ],
      "metadata": {
        "colab": {
          "base_uri": "https://localhost:8080/"
        },
        "id": "U1TrdxgOBM8O",
        "outputId": "3dfd8df8-07f8-4d82-df7b-e83fc757bb61"
      },
      "execution_count": 11,
      "outputs": [
        {
          "output_type": "stream",
          "name": "stderr",
          "text": [
            "\r[*********************100%%**********************]  1 of 1 completed"
          ]
        },
        {
          "output_type": "stream",
          "name": "stdout",
          "text": [
            "\n",
            "Comparison of Predicted vs Actual Prices:\n",
            "               Open_pred     High_pred      Low_pred    Close_pred  \\\n",
            "2024-04-01  68264.835938  70009.929688  66185.281250  68946.234375   \n",
            "2024-04-02  72738.609375  71197.773438  73976.960938  66372.507812   \n",
            "2024-04-03  74958.539062  69599.007812  81222.031250  65315.175781   \n",
            "2024-04-04  72207.781250  67633.726562  80342.523438  63458.785156   \n",
            "2024-04-05  69934.703125  66757.125000  79763.726562  61487.171875   \n",
            "2024-04-06  68465.625000  64587.250000  80433.632812  60211.335938   \n",
            "2024-04-07  66885.468750  65116.199219  81624.085938  60170.421875   \n",
            "\n",
            "             Open_actual   High_actual    Low_actual  Close_actual  \n",
            "2024-04-01  71333.484375  71342.093750  68110.695312  69702.148438  \n",
            "2024-04-02  69705.023438  69708.382812  64586.593750  65446.972656  \n",
            "2024-04-03  65446.671875  66914.320312  64559.898438  65980.812500  \n",
            "2024-04-04  65975.695312  69291.257812  65113.796875  68508.843750  \n",
            "2024-04-05  68515.757812  68725.757812  66011.476562  67837.640625  \n",
            "2024-04-06  67840.570312  69629.601562  67491.718750  68896.109375  \n",
            "2024-04-07  68897.109375  70284.429688  68851.632812  69362.554688  \n"
          ]
        },
        {
          "output_type": "stream",
          "name": "stderr",
          "text": [
            "\n"
          ]
        }
      ]
    },
    {
      "cell_type": "code",
      "source": [
        "from sklearn.metrics import mean_absolute_error, mean_squared_error, r2_score\n",
        "\n",
        "# Ensure actual_ohlc is in DataFrame format and has the same index as predicted_df\n",
        "actual_ohlc = actual_ohlc.loc[predicted_df.index]\n",
        "\n",
        "# Compute MAE\n",
        "mae = mean_absolute_error(actual_ohlc, predicted_df)\n",
        "\n",
        "# Compute MSE\n",
        "mse = mean_squared_error(actual_ohlc, predicted_df)\n",
        "\n",
        "# Compute RMSE\n",
        "rmse = np.sqrt(mse)\n",
        "\n",
        "# Compute MAPE\n",
        "mape = np.mean(np.abs((actual_ohlc - predicted_df) / actual_ohlc)) * 100\n",
        "\n",
        "# Compute R-squared\n",
        "r2 = r2_score(actual_ohlc, predicted_df)\n",
        "\n",
        "# Print metrics\n",
        "print(f\"Mean Absolute Error (MAE): {mae}\")\n",
        "print(f\"Mean Squared Error (MSE): {mse}\")\n",
        "print(f\"Root Mean Squared Error (RMSE): {rmse}\")\n",
        "print(f\"Mean Absolute Percentage Error (MAPE): {mape}%\")\n",
        "print(f\"R-squared (R²): {r2}\")\n"
      ],
      "metadata": {
        "colab": {
          "base_uri": "https://localhost:8080/"
        },
        "id": "nnJRsMJdGAUy",
        "outputId": "9d8a1be9-4594-4a36-84b5-6dbce718c5b9"
      },
      "execution_count": 12,
      "outputs": [
        {
          "output_type": "stream",
          "name": "stdout",
          "text": [
            "Mean Absolute Error (MAE): 5697.949776785715\n",
            "Mean Squared Error (MSE): 56183828.567770824\n",
            "Root Mean Squared Error (RMSE): 7495.587273040774\n",
            "Mean Absolute Percentage Error (MAPE): 8.486913213454574%\n",
            "R-squared (R²): -20.59381478510946\n"
          ]
        }
      ]
    }
  ]
}